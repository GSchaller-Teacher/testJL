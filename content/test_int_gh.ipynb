import piplite

await piplite.install('numpy')
await piplite.install('pandas')

import numpy as np
import pandas as pd 
